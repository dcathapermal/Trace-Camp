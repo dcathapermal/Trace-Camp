{
 "cells": [
  {
   "cell_type": "code",
   "execution_count": null,
   "metadata": {},
   "outputs": [],
   "source": [
    "OnetoTen =  [1, 2, 3, 4, 5, 6, 7, 8, 9, 10]\n",
    "\n",
    "# for x in OnetoTen:\n",
    "#     x+=2\n",
    "#     print(x)\n",
    "\n",
    "x = [i+3 for i in range(10)]\n",
    "\n",
    "y = [i**3 for i in range(10)]\n",
    "\n",
    "def div3(i):\n",
    "    if (i % 3 ==0): \n",
    "        return True\n",
    "    else:\n",
    "        return False\n",
    "    \n",
    "filtered = filter(div3,OnetoTen)\n",
    "\n",
    "z = [x+3 for x in  filtered]\n",
    "print(z)"
   ]
  }
 ],
 "metadata": {
  "kernelspec": {
   "display_name": "Python 3",
   "language": "python",
   "name": "python3"
  },
  "language_info": {
   "codemirror_mode": {
    "name": "ipython",
    "version": 3
   },
   "file_extension": ".py",
   "mimetype": "text/x-python",
   "name": "python",
   "nbconvert_exporter": "python",
   "pygments_lexer": "ipython3",
   "version": "3.6.8"
  }
 },
 "nbformat": 4,
 "nbformat_minor": 2
}
