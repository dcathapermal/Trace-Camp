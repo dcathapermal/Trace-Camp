{
 "cells": [
  {
   "cell_type": "code",
   "execution_count": null,
   "metadata": {},
   "outputs": [],
   "source": [
    "import requests\n",
    "import time\n",
    "from IPython.core.display import Image, display\n",
    "from IPython.display import clear_output\n",
    "\n",
    "api_key = \"h7MUSXLsO1oiyx0mzThNVQQRk0cXDqwcQRH4yqqw\"\n",
    "date = [\"2016-01-01\", \"2016-02-02\",\"2017-01-01\",\"2017-02-02\",\"2018-10-21\",\"2017-07-08\",\"2018-05-08\"]\n",
    "\n",
    "for i in range(len(date)-1):\n",
    "    url = f'https://api.nasa.gov/planetary/apod?api_key={api_key}&date={date[i]}'\n",
    "    image_url = requests.get(url).json()['hdurl']\n",
    "    display(Image(image_url))\n",
    "    time.sleep(2)\n",
    "    clear_output()"
   ]
  }
 ],
 "metadata": {
  "kernelspec": {
   "display_name": "Python 3",
   "language": "python",
   "name": "python3"
  },
  "language_info": {
   "codemirror_mode": {
    "name": "ipython",
    "version": 3
   },
   "file_extension": ".py",
   "mimetype": "text/x-python",
   "name": "python",
   "nbconvert_exporter": "python",
   "pygments_lexer": "ipython3",
   "version": "3.6.8"
  }
 },
 "nbformat": 4,
 "nbformat_minor": 2
}
