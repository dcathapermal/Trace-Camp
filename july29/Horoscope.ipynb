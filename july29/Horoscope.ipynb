{
 "cells": [
  {
   "cell_type": "code",
   "execution_count": 2,
   "metadata": {
    "scrolled": true
   },
   "outputs": [
    {
     "name": "stdout",
     "output_type": "stream",
     "text": [
      "Horoscope Producer\n",
      "What is your name? Dylan\n",
      "What month is your birthday? 10\n",
      "What day is your birthday? 17\n",
      "Hi Dylan your zodiac sign is Libra\n",
      "Here's your daily horoscope: Keep an eye on your money and your possessions today because something unexpected will impact them.\n"
     ]
    }
   ],
   "source": [
    "import random\n",
    "\n",
    "signs = [\"Aries\", \"Taurus\", \"Gemini\", \"Cancer\", \"Leo\", \"Virgo\", \"Libra\", \"Scorpio\",\n",
    "\"Sagittarius\", \"Capricorn\", \"Pisces\"]\n",
    "\n",
    "horoscopes = [\"Don't let minor set backs hold you down\",\n",
    "              \"Pay attention to everything you say and do because this is an accident-prone day for your sign.\",\n",
    "              \"Keep an eye on your money and your possessions today because something unexpected will impact them.\"\n",
    "]\n",
    "def zodiacSignNum(month, day):\n",
    "#Aries\n",
    "    if month == 3:\n",
    "        return 0\n",
    "#Taurus\n",
    "    elif (month ==4 and day >= 20) or (month ==5 and day <=20):\n",
    "        return 1\n",
    "#Gemini\n",
    "    elif (month ==5 and day >= 21) or (month ==6 and day <=20):\n",
    "        return 2\n",
    "#Cancer\n",
    "    elif (month ==6 and day >= 21) or (month ==7 and day <=22):\n",
    "        return 3\n",
    "#Leo\n",
    "    elif (month ==7 and day >= 23) or (month ==8 and day <=22):\n",
    "        return 4\n",
    "#Virgo\n",
    "    elif (month ==8 and day >= 23) or (month ==9 and day <=22):\n",
    "        return 5\n",
    "#libra\n",
    "    elif (month ==9 and day >= 23) or (month ==10 and day <=21):\n",
    "        return 6\n",
    "#Scorpio\n",
    "    elif (month ==10 and day >= 23) or (month ==11 and day <=21):\n",
    "        return 7\n",
    "#Sagittarius\n",
    "    elif (month ==11 and day >= 22) or (month ==12 and day <=21):\n",
    "        return 8\n",
    "#Capricorn\n",
    "    elif (month ==12 and day >= 22) or (month ==1 and day <=19):\n",
    "        return 9\n",
    "#Aquarius\n",
    "    elif (month == 1 and day >= 20) or (month == 2 and day <= 18):\n",
    "        return 10\n",
    "#Pisces\n",
    "    else:\n",
    "        return 11\n",
    "    \n",
    "def randomHoroscope():\n",
    "    return random.randint(0,2)\n",
    "\n",
    "def main():\n",
    "    \n",
    "    print(\"Horoscope Producer\")\n",
    "    \n",
    "    name = str(input(\"What is your name? \"))\n",
    "    bdayMonth = input(\"What month is your birthday? \")\n",
    "    bdayDay = input(\"What day is your birthday? \")\n",
    "    \n",
    "    signNum = zodiacSignNum(int(bdayMonth), int(bdayDay))\n",
    "   \n",
    "    print(\"Hi \" + name + \" your zodiac sign is \" + signs[signNum])\n",
    "    print(\"Here's your daily horoscope: \" + horoscopes[randomHoroscope()])\n",
    "    \n",
    "\n",
    "main()"
   ]
  },
  {
   "cell_type": "code",
   "execution_count": null,
   "metadata": {},
   "outputs": [],
   "source": []
  }
 ],
 "metadata": {
  "kernelspec": {
   "display_name": "Python 3",
   "language": "python",
   "name": "python3"
  },
  "language_info": {
   "codemirror_mode": {
    "name": "ipython",
    "version": 3
   },
   "file_extension": ".py",
   "mimetype": "text/x-python",
   "name": "python",
   "nbconvert_exporter": "python",
   "pygments_lexer": "ipython3",
   "version": "3.6.8"
  }
 },
 "nbformat": 4,
 "nbformat_minor": 2
}
